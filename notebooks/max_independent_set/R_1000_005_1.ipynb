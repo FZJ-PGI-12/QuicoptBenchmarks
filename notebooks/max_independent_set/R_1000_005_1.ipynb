{
 "cells": [
  {
   "cell_type": "markdown",
   "id": "ef7dc0c5",
   "metadata": {},
   "source": [
    "# Maximum Independent Set\n",
    "Quantum Optimization Benchmark Library: https://doi.org/10.48550/arXiv.2504.03832\n",
    "\n",
    "Hardware: Apple M1 Pro (8 cores, 16 GB memory)"
   ]
  },
  {
   "cell_type": "markdown",
   "id": "c7bbb25a",
   "metadata": {},
   "source": [
    "## Benchmark"
   ]
  },
  {
   "cell_type": "code",
   "execution_count": 3,
   "id": "fe1c06c9",
   "metadata": {},
   "outputs": [],
   "source": [
    "using Quicopt, LinearAlgebra, Printf\n",
    "using CPUTime\n",
    "include(\"../../src/utils.jl\")\n",
    "Base.show(io::IO, f::Float64) = @printf(io, \"%1.5f\", f)"
   ]
  },
  {
   "cell_type": "code",
   "execution_count": 4,
   "id": "60b6d9a3",
   "metadata": {},
   "outputs": [],
   "source": [
    "PATH = \"../../instances/max_independent_set/\"\n",
    "filename = \"R_1000_005_1.gph\";"
   ]
  },
  {
   "cell_type": "code",
   "execution_count": 5,
   "id": "f4cc6cdd",
   "metadata": {},
   "outputs": [
    {
     "data": {
      "text/plain": [
       "1000"
      ]
     },
     "metadata": {},
     "output_type": "display_data"
    }
   ],
   "source": [
    "# load graph from file\n",
    "graph = load_dimacs_graph_matrix(PATH * filename)\n",
    "\n",
    "# system size\n",
    "N = size(graph)[1]"
   ]
  },
  {
   "cell_type": "code",
   "execution_count": 6,
   "id": "def6b076",
   "metadata": {},
   "outputs": [
    {
     "data": {
      "text/plain": [
       "24670"
      ]
     },
     "metadata": {},
     "output_type": "display_data"
    }
   ],
   "source": [
    "# number of edges\n",
    "size(findall(x -> x==1, UpperTriangular(graph)), 1)"
   ]
  },
  {
   "cell_type": "code",
   "execution_count": null,
   "id": "558cc336",
   "metadata": {},
   "outputs": [],
   "source": [
    "# Lagrange multiplier\n",
    "λ = 1.0\n",
    "\n",
    "# cost function\n",
    "local_fields = -ones(N) ./ λ + 0.5 .* (ones(N)' * graph)';\n",
    "couplings = -0.5 .* graph\n",
    "\n",
    "tensor_problem = TensorProblem(local_fields, couplings);"
   ]
  },
  {
   "cell_type": "markdown",
   "id": "9f706c5e",
   "metadata": {},
   "source": [
    "### Fast Solution"
   ]
  },
  {
   "cell_type": "code",
   "execution_count": 10,
   "id": "0ea5d0ec",
   "metadata": {},
   "outputs": [],
   "source": [
    "# parameters\n",
    "T = 2.0^7\n",
    "tol = 1e-1;"
   ]
  },
  {
   "cell_type": "code",
   "execution_count": 11,
   "id": "c492fcab",
   "metadata": {},
   "outputs": [],
   "source": [
    "# run once to force precompilation\n",
    "mf_sol = solve(tensor_problem, T, atol=tol, rtol=tol)\n",
    "sol_vec = sign.(mf_sol.u[end][3, :]);"
   ]
  },
  {
   "cell_type": "code",
   "execution_count": 12,
   "id": "f67b7a93",
   "metadata": {},
   "outputs": [
    {
     "name": "stdout",
     "output_type": "stream",
     "text": [
      "0\n",
      "106.00000\n"
     ]
    }
   ],
   "source": [
    "# map from Ising to binary\n",
    "bit_string = (1 .- sol_vec) ./ 2\n",
    "\n",
    "# check violated clauses\n",
    "num_violated_clauses = Int(0.5 * bit_string' * graph * bit_string)\n",
    "num_violated_clauses |> println\n",
    "\n",
    "# check max. indep. set\n",
    "sum(bit_string) |> println"
   ]
  },
  {
   "cell_type": "code",
   "execution_count": 13,
   "id": "7ae77b99",
   "metadata": {},
   "outputs": [
    {
     "name": "stdout",
     "output_type": "stream",
     "text": [
      "0.00000\n",
      "106.00000\n"
     ]
    }
   ],
   "source": [
    "false_idxs = findall(x -> x == 1., bit_string .* (graph * bit_string))\n",
    "violated_bonds = Set([[idx, intersect(false_idxs, findall(x -> x == 1, graph[idx, :]))[1]] |> sort for idx in false_idxs])\n",
    "\n",
    "# flip violated bonds\n",
    "flip_idxs = [bond[1] for bond in violated_bonds]\n",
    "bit_string[flip_idxs] .= 0.\n",
    "bit_string' * graph * bit_string |> println\n",
    "sum(bit_string) |> println"
   ]
  },
  {
   "cell_type": "code",
   "execution_count": 14,
   "id": "fbd49e20",
   "metadata": {},
   "outputs": [
    {
     "name": "stdout",
     "output_type": "stream",
     "text": [
      "elapsed CPU time: 10.04948 seconds\n"
     ]
    }
   ],
   "source": [
    "# get CPU time\n",
    "@CPUtime begin\n",
    "    mf_sol = solve(tensor_problem, T, atol=tol, rtol=tol)\n",
    "    sol_vec = sign.(mf_sol.u[end][3, :])\n",
    "    false_idxs = findall(x -> x == 1., bit_string .* (graph * bit_string))\n",
    "    violated_bonds = Set([[idx, intersect(false_idxs, findall(x -> x == 1, graph[idx, :]))[1]] |> sort for idx in false_idxs])\n",
    "    flip_idxs = [bond[1] for bond in violated_bonds]\n",
    "    bit_string[flip_idxs] .= 0.\n",
    "end;"
   ]
  },
  {
   "cell_type": "markdown",
   "id": "f10186c0",
   "metadata": {},
   "source": [
    "### Slow Solution"
   ]
  },
  {
   "cell_type": "code",
   "execution_count": 15,
   "id": "49fae53c",
   "metadata": {},
   "outputs": [],
   "source": [
    "# parameters\n",
    "T = 600.0\n",
    "tol = 1e-4;"
   ]
  },
  {
   "cell_type": "code",
   "execution_count": 16,
   "id": "77aa4bc6",
   "metadata": {},
   "outputs": [],
   "source": [
    "# run once to force precompilation\n",
    "mf_sol = solve(tensor_problem, T, atol=tol, rtol=tol)\n",
    "sol_vec = sign.(mf_sol.u[end][3, :]);"
   ]
  },
  {
   "cell_type": "code",
   "execution_count": 17,
   "id": "6e07dcd0",
   "metadata": {},
   "outputs": [
    {
     "name": "stdout",
     "output_type": "stream",
     "text": [
      "4\n",
      "115.00000\n"
     ]
    }
   ],
   "source": [
    "# map from Ising to binary\n",
    "bit_string = (1 .- sol_vec) ./ 2\n",
    "\n",
    "# check violated clauses\n",
    "num_violated_clauses = Int(0.5 * bit_string' * graph * bit_string)\n",
    "num_violated_clauses |> println\n",
    "\n",
    "# check max. indep. set\n",
    "sum(bit_string) |> println"
   ]
  },
  {
   "cell_type": "code",
   "execution_count": 18,
   "id": "44ad7327",
   "metadata": {},
   "outputs": [
    {
     "name": "stdout",
     "output_type": "stream",
     "text": [
      "0.00000\n",
      "111.00000\n"
     ]
    }
   ],
   "source": [
    "false_idxs = findall(x -> x == 1., bit_string .* (graph * bit_string))\n",
    "violated_bonds = Set([[idx, intersect(false_idxs, findall(x -> x == 1, graph[idx, :]))[1]] |> sort for idx in false_idxs])\n",
    "\n",
    "# flip violated bonds\n",
    "flip_idxs = [bond[1] for bond in violated_bonds]\n",
    "bit_string[flip_idxs] .= 0.\n",
    "bit_string' * graph * bit_string |> println\n",
    "sum(bit_string) |> println"
   ]
  },
  {
   "cell_type": "code",
   "execution_count": 19,
   "id": "7bdb0243",
   "metadata": {},
   "outputs": [
    {
     "name": "stdout",
     "output_type": "stream",
     "text": [
      "elapsed CPU time: 87.25617 seconds\n"
     ]
    }
   ],
   "source": [
    "# get CPU time\n",
    "@CPUtime begin\n",
    "    mf_sol = solve(tensor_problem, T, atol=tol, rtol=tol)\n",
    "    sol_vec = sign.(mf_sol.u[end][3, :])\n",
    "    false_idxs = findall(x -> x == 1., bit_string .* (graph * bit_string))\n",
    "    violated_bonds = Set([[idx, intersect(false_idxs, findall(x -> x == 1, graph[idx, :]))[1]] |> sort for idx in false_idxs])\n",
    "    flip_idxs = [bond[1] for bond in violated_bonds]\n",
    "    bit_string[flip_idxs] .= 0.\n",
    "end;"
   ]
  },
  {
   "cell_type": "code",
   "execution_count": null,
   "id": "abb92e71",
   "metadata": {},
   "outputs": [],
   "source": []
  }
 ],
 "metadata": {
  "kernelspec": {
   "display_name": "Julia 1.10.9",
   "language": "julia",
   "name": "julia-1.10"
  },
  "language_info": {
   "file_extension": ".jl",
   "mimetype": "application/julia",
   "name": "julia",
   "version": "1.10.9"
  }
 },
 "nbformat": 4,
 "nbformat_minor": 5
}
