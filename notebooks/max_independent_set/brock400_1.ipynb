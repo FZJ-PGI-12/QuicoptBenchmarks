{
 "cells": [
  {
   "cell_type": "markdown",
   "id": "ef7dc0c5",
   "metadata": {},
   "source": [
    "# Maximum Independent Set\n",
    "Quantum Optimization Benchmark Library: https://doi.org/10.48550/arXiv.2504.03832\n",
    "\n",
    "Hardware: Apple M1 Pro (8 cores, 16 GB memory)"
   ]
  },
  {
   "cell_type": "markdown",
   "id": "c7bbb25a",
   "metadata": {},
   "source": [
    "## Benchmark"
   ]
  },
  {
   "cell_type": "code",
   "execution_count": 2,
   "id": "fe1c06c9",
   "metadata": {},
   "outputs": [],
   "source": [
    "using Quicopt, LinearAlgebra, Printf\n",
    "using CPUTime\n",
    "include(\"../../src/utils.jl\")\n",
    "Base.show(io::IO, f::Float64) = @printf(io, \"%1.5f\", f)"
   ]
  },
  {
   "cell_type": "code",
   "execution_count": 3,
   "id": "60b6d9a3",
   "metadata": {},
   "outputs": [],
   "source": [
    "PATH = \"../../instances/max_independent_set/\"\n",
    "filename = \"brock400_1.gph\";"
   ]
  },
  {
   "cell_type": "code",
   "execution_count": 4,
   "id": "f4cc6cdd",
   "metadata": {},
   "outputs": [
    {
     "data": {
      "text/plain": [
       "400"
      ]
     },
     "metadata": {},
     "output_type": "display_data"
    }
   ],
   "source": [
    "# load graph from file\n",
    "graph = load_dimacs_graph_matrix(PATH * filename)\n",
    "\n",
    "# system size\n",
    "N = size(graph)[1]"
   ]
  },
  {
   "cell_type": "code",
   "execution_count": 5,
   "id": "6598b383",
   "metadata": {},
   "outputs": [
    {
     "data": {
      "text/plain": [
       "20077"
      ]
     },
     "metadata": {},
     "output_type": "display_data"
    }
   ],
   "source": [
    "# number of edges\n",
    "size(findall(x -> x==1, UpperTriangular(graph)), 1)"
   ]
  },
  {
   "cell_type": "code",
   "execution_count": null,
   "id": "558cc336",
   "metadata": {},
   "outputs": [],
   "source": [
    "# Lagrange multiplier\n",
    "λ = 0.5\n",
    "\n",
    "# cost function\n",
    "local_fields = -ones(N) ./ λ + 0.5 .* (ones(N)' * graph)';\n",
    "couplings = -0.5 .* graph\n",
    "\n",
    "tensor_problem = TensorProblem(local_fields, couplings);"
   ]
  },
  {
   "cell_type": "code",
   "execution_count": 7,
   "id": "49fae53c",
   "metadata": {},
   "outputs": [],
   "source": [
    "# parameters\n",
    "T = 200.0\n",
    "tol = 1e-4;"
   ]
  },
  {
   "cell_type": "code",
   "execution_count": 8,
   "id": "77aa4bc6",
   "metadata": {},
   "outputs": [],
   "source": [
    "# run once to force precompilation\n",
    "mf_sol = solve(tensor_problem, T, atol=tol, rtol=tol)\n",
    "sol_vec = sign.(mf_sol.u[end][3, :]);"
   ]
  },
  {
   "cell_type": "code",
   "execution_count": 9,
   "id": "6e07dcd0",
   "metadata": {},
   "outputs": [
    {
     "name": "stdout",
     "output_type": "stream",
     "text": [
      "4\n",
      "27.00000\n"
     ]
    }
   ],
   "source": [
    "# map from Ising to binary\n",
    "bit_string = (1 .- sol_vec) ./ 2\n",
    "\n",
    "# check violated clauses\n",
    "num_violated_clauses = Int(0.5 * bit_string' * graph * bit_string)\n",
    "num_violated_clauses |> println\n",
    "\n",
    "# check max. indep. set\n",
    "sum(bit_string) |> println"
   ]
  },
  {
   "cell_type": "code",
   "execution_count": 10,
   "id": "99543884",
   "metadata": {},
   "outputs": [
    {
     "name": "stdout",
     "output_type": "stream",
     "text": [
      "0.00000\n",
      "23.00000\n"
     ]
    }
   ],
   "source": [
    "false_idxs = findall(x -> x == 1., bit_string .* (graph * bit_string))\n",
    "violated_bonds = Set([[idx, intersect(false_idxs, findall(x -> x == 1, graph[idx, :]))[1]] |> sort for idx in false_idxs])\n",
    "\n",
    "# flip violated bonds\n",
    "flip_idxs = [bond[1] for bond in violated_bonds]\n",
    "bit_string[flip_idxs] .= 0.\n",
    "bit_string' * graph * bit_string |> println\n",
    "sum(bit_string) |> println"
   ]
  },
  {
   "cell_type": "code",
   "execution_count": 11,
   "id": "da43d2e2",
   "metadata": {},
   "outputs": [
    {
     "name": "stdout",
     "output_type": "stream",
     "text": [
      "elapsed CPU time: 1.69669 seconds\n"
     ]
    }
   ],
   "source": [
    "# get CPU time\n",
    "@CPUtime begin\n",
    "    mf_sol = solve(tensor_problem, T, atol=tol, rtol=tol)\n",
    "    sol_vec = sign.(mf_sol.u[end][3, :])\n",
    "    false_idxs = findall(x -> x == 1., bit_string .* (graph * bit_string))\n",
    "    violated_bonds = Set([[idx, intersect(false_idxs, findall(x -> x == 1, graph[idx, :]))[1]] |> sort for idx in false_idxs])\n",
    "    flip_idxs = [bond[1] for bond in violated_bonds]\n",
    "    bit_string[flip_idxs] .= 0.    \n",
    "end;"
   ]
  }
 ],
 "metadata": {
  "kernelspec": {
   "display_name": "Julia 1.10.9",
   "language": "julia",
   "name": "julia-1.10"
  },
  "language_info": {
   "file_extension": ".jl",
   "mimetype": "application/julia",
   "name": "julia",
   "version": "1.10.9"
  }
 },
 "nbformat": 4,
 "nbformat_minor": 5
}
